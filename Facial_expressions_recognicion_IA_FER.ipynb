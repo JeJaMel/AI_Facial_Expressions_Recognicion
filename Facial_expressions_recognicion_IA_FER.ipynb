{
  "nbformat": 4,
  "nbformat_minor": 0,
  "metadata": {
    "colab": {
      "provenance": [],
      "gpuType": "T4",
      "include_colab_link": true
    },
    "kernelspec": {
      "name": "python3",
      "display_name": "Python 3"
    },
    "language_info": {
      "name": "python"
    },
    "accelerator": "GPU"
  },
  "cells": [
    {
      "cell_type": "markdown",
      "metadata": {
        "id": "view-in-github",
        "colab_type": "text"
      },
      "source": [
        "<a href=\"https://colab.research.google.com/github/JeJaMel/AI_Facial_Expressions_Recognicion/blob/main/Facial_expressions_recognicion_IA_FER.ipynb\" target=\"_parent\"><img src=\"https://colab.research.google.com/assets/colab-badge.svg\" alt=\"Open In Colab\"/></a>"
      ]
    },
    {
      "cell_type": "code",
      "execution_count": null,
      "metadata": {
        "collapsed": true,
        "id": "lb8gNIIVYM0l"
      },
      "outputs": [],
      "source": [
        "!pip install pyngrok streamlit"
      ]
    },
    {
      "cell_type": "code",
      "source": [
        "import tensorflow as tf\n",
        "from tensorflow import keras\n",
        "tf.test.gpu_device_name() #this line is for test if T4 GPUT is beeing used (recomend)\n",
        "import kagglehub\n",
        "from google.colab import drive\n",
        "import os\n",
        "import matplotlib.pyplot as plt\n",
        "import matplotlib.image as mpimg\n",
        "from keras import layers\n",
        "import pandas as pd\n",
        "import cv2\n",
        "from tensorflow.keras import mixed_precision, callbacks, models\n",
        "from tensorflow.keras.callbacks import ModelCheckpoint\n",
        "import streamlit as st\n",
        "from pyngrok import ngrok\n",
        "from tensorflow.keras.preprocessing import image\n",
        "import numpy as np\n",
        "from tensorflow.keras.models import load_model"
      ],
      "metadata": {
        "id": "eGF9S_mtYlgg"
      },
      "execution_count": 2,
      "outputs": []
    },
    {
      "cell_type": "code",
      "source": [
        "import kagglehub\n",
        "\n",
        "# Download latest version\n",
        "path = kagglehub.dataset_download(\"msambare/fer2013\")\n",
        "\n",
        "print(\"Path to dataset files:\", path)"
      ],
      "metadata": {
        "id": "hcrm_tgUYrls"
      },
      "execution_count": null,
      "outputs": []
    },
    {
      "cell_type": "code",
      "source": [
        "drive.mount('/content/drive')"
      ],
      "metadata": {
        "colab": {
          "base_uri": "https://localhost:8080/"
        },
        "id": "R0gx7LfyZ693",
        "outputId": "a6ae7c95-dacd-4405-d4d3-de9c49e9d55f"
      },
      "execution_count": 3,
      "outputs": [
        {
          "output_type": "stream",
          "name": "stdout",
          "text": [
            "Mounted at /content/drive\n"
          ]
        }
      ]
    },
    {
      "cell_type": "code",
      "source": [
        "!cp -r /root/.cache/kagglehub/datasets/msambare/fer2013/versions/1 /content/drive/MyDrive/FERDataSet #Move the dataset to the drive"
      ],
      "metadata": {
        "id": "by2NGsIIaFh4"
      },
      "execution_count": 7,
      "outputs": []
    },
    {
      "cell_type": "code",
      "source": [
        "import os\n",
        "import numpy as np\n",
        "import tensorflow as tf\n",
        "from tensorflow.keras.preprocessing.image import ImageDataGenerator\n",
        "\n",
        "def prepare_fer2013_data(data_dir, img_size=(48, 48), batch_size=64):\n",
        "\n",
        "    train_dir = os.path.join(data_dir, 'train')\n",
        "    validation_dir = os.path.join(data_dir, 'test')\n",
        "\n",
        "    # Data augmentation for training data\n",
        "    train_datagen = ImageDataGenerator(\n",
        "        rescale=1./255,\n",
        "        rotation_range=20,\n",
        "        width_shift_range=0.2,\n",
        "        height_shift_range=0.2,\n",
        "        shear_range=0.2,\n",
        "        zoom_range=0.2,\n",
        "        horizontal_flip=True,\n",
        "        fill_mode='nearest'\n",
        "    )\n",
        "\n",
        "    # Only rescaling for validation data\n",
        "    validation_datagen = ImageDataGenerator(rescale=1./255)\n",
        "\n",
        "    train_generator = train_datagen.flow_from_directory(\n",
        "        train_dir,\n",
        "        target_size=img_size,\n",
        "        batch_size=batch_size,\n",
        "        color_mode='grayscale',  # FER-2013 is grayscale\n",
        "        class_mode='categorical'\n",
        "    )\n",
        "\n",
        "    validation_generator = validation_datagen.flow_from_directory(\n",
        "        validation_dir,\n",
        "        target_size=img_size,\n",
        "        batch_size=batch_size,\n",
        "        color_mode='grayscale',\n",
        "        class_mode='categorical'\n",
        "    )\n",
        "\n",
        "    return train_generator, validation_generator\n",
        "\n",
        "\n"
      ],
      "metadata": {
        "id": "qXXXteP1aUUT"
      },
      "execution_count": 8,
      "outputs": []
    },
    {
      "cell_type": "code",
      "source": [
        "data_directory = '/content/drive/MyDrive/FERDataSet'\n",
        "train_gen, val_gen = prepare_fer2013_data(data_directory)"
      ],
      "metadata": {
        "colab": {
          "base_uri": "https://localhost:8080/"
        },
        "id": "1p8nS6peabM9",
        "outputId": "e395982e-ed47-484e-cb43-66d85095314d"
      },
      "execution_count": 9,
      "outputs": [
        {
          "output_type": "stream",
          "name": "stdout",
          "text": [
            "Found 28709 images belonging to 7 classes.\n",
            "Found 7178 images belonging to 7 classes.\n"
          ]
        }
      ]
    },
    {
      "cell_type": "code",
      "source": [
        "import tensorflow as tf\n",
        "from tensorflow.keras import layers, models\n",
        "\n",
        "def create_light_cnn(input_shape=(48, 48, 1), num_classes=7):\n",
        "\n",
        "    model = models.Sequential([\n",
        "        layers.Conv2D(32, (3, 3), activation='relu', input_shape=input_shape),\n",
        "        layers.BatchNormalization(),\n",
        "        layers.MaxPooling2D((2, 2)),\n",
        "\n",
        "        layers.Conv2D(64, (3, 3), activation='relu'),\n",
        "        layers.BatchNormalization(),\n",
        "        layers.MaxPooling2D((2, 2)),\n",
        "\n",
        "        layers.Conv2D(128, (3, 3), activation='relu'),\n",
        "        layers.BatchNormalization(),\n",
        "        layers.MaxPooling2D((2, 2)),\n",
        "\n",
        "        layers.Flatten(),\n",
        "        layers.Dense(128, activation='relu'),\n",
        "        layers.Dropout(0.5), # Add dropout for regularization\n",
        "        layers.Dense(num_classes, activation='softmax')\n",
        "    ])\n",
        "\n",
        "    return model\n",
        "\n",
        "# Example usage (after creating train_gen and val_gen):\n",
        "input_shape = (48, 48, 1) # Grayscale\n",
        "num_classes = 7\n",
        "\n"
      ],
      "metadata": {
        "id": "dkSNIlCxfORj"
      },
      "execution_count": null,
      "outputs": []
    },
    {
      "cell_type": "code",
      "source": [
        "model = create_light_cnn(input_shape, num_classes)\n"
      ],
      "metadata": {
        "id": "_p1iuYG9fUUt"
      },
      "execution_count": null,
      "outputs": []
    },
    {
      "cell_type": "code",
      "source": [
        "model.compile(optimizer='adam',\n",
        "              loss='categorical_crossentropy',\n",
        "              metrics=['accuracy'])\n",
        "\n"
      ],
      "metadata": {
        "id": "zN8mprBEfXUU"
      },
      "execution_count": 20,
      "outputs": []
    },
    {
      "cell_type": "code",
      "source": [
        "model_dir = 'saved_models'\n",
        "if not os.path.exists(model_dir):\n",
        "    os.makedirs(model_dir)\n"
      ],
      "metadata": {
        "id": "FZbl-p-Sfgfo"
      },
      "execution_count": 10,
      "outputs": []
    },
    {
      "cell_type": "code",
      "source": [
        "checkpoint_filepath = os.path.join(model_dir, 'best_model.h5')\n",
        "model_checkpoint_callback = callbacks.ModelCheckpoint(\n",
        "    filepath=checkpoint_filepath,\n",
        "    save_best_only=True,\n",
        "    monitor='val_accuracy', #or val_loss, depending on what you want to monitor.\n",
        "    mode='max' # or min, depending on monitor\n",
        ")"
      ],
      "metadata": {
        "id": "FDDFN_z_fjK2"
      },
      "execution_count": 13,
      "outputs": []
    },
    {
      "cell_type": "code",
      "source": [
        "early_stopping_callback = callbacks.EarlyStopping(\n",
        "    monitor='val_accuracy', # or val_loss\n",
        "    patience=10,\n",
        "    restore_best_weights=True\n",
        ")"
      ],
      "metadata": {
        "id": "ggR_CC4lfpYE"
      },
      "execution_count": 14,
      "outputs": []
    },
    {
      "cell_type": "code",
      "source": [
        "tf.config.run_functions_eagerly(True)"
      ],
      "metadata": {
        "id": "nyY9p5ZPDxI_"
      },
      "execution_count": 18,
      "outputs": []
    },
    {
      "cell_type": "code",
      "source": [
        "history = model.fit(\n",
        "    train_gen,\n",
        "    epochs=25,\n",
        "    validation_data=val_gen,\n",
        "    callbacks=[model_checkpoint_callback, early_stopping_callback],\n",
        "    steps_per_epoch=len(train_gen),\n",
        "    validation_steps=len(val_gen)\n",
        ")"
      ],
      "metadata": {
        "id": "4wT2m7_Ifs96"
      },
      "execution_count": null,
      "outputs": []
    },
    {
      "cell_type": "code",
      "source": [
        "import pandas as pd\n",
        "import matplotlib.pyplot as plt\n",
        "\n",
        "def plot_training_history(history):\n",
        "\n",
        "    if history is None or not hasattr(history, 'history'):\n",
        "        print(\"Invalid history object. Make sure you passed the history object from model.fit()\")\n",
        "        return\n",
        "\n",
        "    df = pd.DataFrame(history.history)\n",
        "    df.plot(figsize=(10, 7))\n",
        "    plt.grid(True)\n",
        "    plt.gca().set_ylim(0, 1.2)  # Adjust y-axis limits as needed\n",
        "    plt.xlabel(\"epochs\")\n",
        "    plt.show()\n",
        "\n",
        "# Example usage (after training your model):\n",
        "# Assuming your training history is stored in the 'history' variable:\n",
        "plot_training_history(history)"
      ],
      "metadata": {
        "colab": {
          "base_uri": "https://localhost:8080/",
          "height": 624
        },
        "id": "P_tDZeHQ4wo0",
        "outputId": "af095dfb-577c-468e-b120-6297b25669c3"
      },
      "execution_count": null,
      "outputs": [
        {
          "output_type": "display_data",
          "data": {
            "text/plain": [
              "<Figure size 1000x700 with 1 Axes>"
            ],
            "image/png": "[encoded data removed]"
          },
          "metadata": {}
        }
      ]
    },
    {
      "cell_type": "code",
      "source": [
        "model = load_model('/content/best_modelV4.h5')"
      ],
      "metadata": {
        "colab": {
          "base_uri": "https://localhost:8080/"
        },
        "id": "nD7KjdOm_KxC",
        "outputId": "116e0576-a513-4434-a65d-e879eca07969"
      },
      "execution_count": 11,
      "outputs": [
        {
          "output_type": "stream",
          "name": "stderr",
          "text": [
            "WARNING:absl:Compiled the loaded model, but the compiled metrics have yet to be built. `model.compile_metrics` will be empty until you train or evaluate the model.\n"
          ]
        }
      ]
    },
    {
      "cell_type": "code",
      "source": [
        "import tensorflow as tf\n",
        "from tensorflow.keras.preprocessing import image\n",
        "import matplotlib.pyplot as plt\n",
        "import numpy as np\n",
        "import cv2 # Import OpenCV\n",
        "\n",
        "def predict_emotion(model, img_path, target_size=(48, 48), class_names=None):\n",
        "    try:\n",
        "        img = cv2.imread(img_path) #Load using cv2, to handle color\n",
        "        if img is None:\n",
        "            raise FileNotFoundError(f\"Could not read image at {img_path}\")\n",
        "        img = cv2.cvtColor(img, cv2.COLOR_BGR2GRAY) #convert to grayscale\n",
        "        img = cv2.resize(img, target_size)\n",
        "        img = image.img_to_array(img)\n",
        "        img = np.expand_dims(img, axis=0)\n",
        "    except FileNotFoundError as e:\n",
        "        print(f\"Error: {e}\")\n",
        "        return\n",
        "    except Exception as e:\n",
        "        print(f\"Error loading/processing image: {e}\")\n",
        "        return\n",
        "\n",
        "    try:\n",
        "        predictions = model.predict(img)\n",
        "    except Exception as e:\n",
        "        print(f\"Error during prediction: {e}\")\n",
        "        return\n",
        "\n",
        "    predicted_class = np.argmax(predictions)\n",
        "    score = predictions[0][predicted_class]\n",
        "\n",
        "    plt.figure(figsize=(3, 3))\n",
        "    plt.imshow(img[0], cmap='gray')  # Display as grayscale\n",
        "    if class_names:\n",
        "        plt.title(f\"{class_names[predicted_class]}, Confidence: {100 * score:.2f}%\")\n",
        "    else:\n",
        "        plt.title(f\"Predicted Emotion: {predicted_class}, Confidence: {100 * score:.2f}%\")\n",
        "\n",
        "    plt.axis(\"off\")\n",
        "    plt.show()\n",
        "\n"
      ],
      "metadata": {
        "id": "wvF8GHH-YQX3"
      },
      "execution_count": 23,
      "outputs": []
    },
    {
      "cell_type": "code",
      "source": [
        "img_path = '/content/'\n",
        "class_names = ['angry', 'disgust', 'fear', 'happy', 'neutral', 'sad', 'surprise']\n",
        "target_size = (48, 48)\n",
        "\n",
        "predict_emotion(model, img_path, target_size, class_names)"
      ],
      "metadata": {
        "id": "ABVMsMrZaqFy"
      },
      "execution_count": null,
      "outputs": []
    },
    {
      "cell_type": "code",
      "source": [
        "ngrok.set_auth_token(\"TOKEN\")\n",
        "\n",
        "# Configure the tunnel using a config object\n",
        "tunnel = ngrok.connect(addr=\"8501\", proto=\"http\", bind_tls=True)  # Streamlit's default port\n",
        "\n",
        "public_url = tunnel.public_url\n",
        "print(f\"Public URL: {public_url}\")\n",
        "\n",
        "# Start the Streamlit server, pointing to your script file\n",
        "!streamlit run --server.port 8501 /content/drive/MyDrive/FERDataSet/Scripts/main.py &"
      ],
      "metadata": {
        "id": "dgYc5a8GdtPY"
      },
      "execution_count": null,
      "outputs": []
    }
  ]
}